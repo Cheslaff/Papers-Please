{
  "nbformat": 4,
  "nbformat_minor": 0,
  "metadata": {
    "colab": {
      "provenance": [],
      "gpuType": "T4"
    },
    "kernelspec": {
      "name": "python3",
      "display_name": "Python 3"
    },
    "language_info": {
      "name": "python"
    },
    "accelerator": "GPU"
  },
  "cells": [
    {
      "cell_type": "markdown",
      "source": [
        "# LeNet-5 (1998) with PyTorch\n",
        "\n",
        "### Table Of Contents:\n",
        "\n",
        "1) Getting the data<br>\n",
        "2) Data Preprocessing<br>\n",
        "3) Building original LeNet-5<br>\n",
        "4) Evaluate model<br>\n",
        "5) Improving LeNet-5 with modern techniques.<br>\n",
        "6) Evaluate improved model<br>\n",
        "7) Conclusion<br>\n",
        "The experiment is finished when performance of original LeNet-5 is achieved/improved"
      ],
      "metadata": {
        "id": "WdVNBrtfwtnb"
      }
    },
    {
      "cell_type": "code",
      "execution_count": 1,
      "metadata": {
        "colab": {
          "base_uri": "https://localhost:8080/"
        },
        "id": "gtFGeuLxwKO_",
        "outputId": "ca2e1ef0-729a-4c29-9e71-badae86cce10"
      },
      "outputs": [
        {
          "output_type": "execute_result",
          "data": {
            "text/plain": [
              "('2.5.1+cu121', '0.20.1+cu121')"
            ]
          },
          "metadata": {},
          "execution_count": 1
        }
      ],
      "source": [
        "import torch\n",
        "from torch import nn\n",
        "import torchvision\n",
        "from torchvision import datasets\n",
        "from torchvision import transforms\n",
        "import matplotlib.pyplot as plt\n",
        "from torch.utils.data import DataLoader\n",
        "\n",
        "torch.__version__, torchvision.__version__"
      ]
    },
    {
      "cell_type": "markdown",
      "source": [
        "### 1) Getting the data\n",
        "\n",
        "LeNet-5 used grayscale handwritten digits dataset of size 32x32.<br>\n",
        "I'll use MNIST dataset with the only difference in size (28x28), but I can pad it to 32x32.<br>"
      ],
      "metadata": {
        "id": "Pbu2nPEhx0Wu"
      }
    },
    {
      "cell_type": "code",
      "source": [
        "mean, std = 0, 28/32\n",
        "\n",
        "transform_stack = transforms.Compose([\n",
        "    transforms.ToTensor(),\n",
        "    transforms.Pad(2),\n",
        "    transforms.Normalize((mean,), (std,))  # LeNet-5 uses\n",
        "])"
      ],
      "metadata": {
        "id": "uh8cIRKA1TqV"
      },
      "execution_count": 2,
      "outputs": []
    },
    {
      "cell_type": "code",
      "source": [
        "mnist_train_data = datasets.MNIST(\"data/mnist\",\n",
        "                                  train=True,\n",
        "                                  download=True,\n",
        "                                  transform=transform_stack)\n",
        "mnist_test_data = datasets.MNIST(\"dataset/mnist\",\n",
        "                                 train=False,\n",
        "                                 download=True,\n",
        "                                 transform=transform_stack)"
      ],
      "metadata": {
        "id": "akEHWHMHwPVl"
      },
      "execution_count": 14,
      "outputs": []
    },
    {
      "cell_type": "code",
      "source": [
        "sample, label = mnist_train_data[0]\n",
        "plt.title(label)\n",
        "plt.axis(\"off\")\n",
        "plt.imshow(sample.squeeze(), cmap=\"grey\");"
      ],
      "metadata": {
        "colab": {
          "base_uri": "https://localhost:8080/",
          "height": 428
        },
        "id": "6xBE6wi5zWkg",
        "outputId": "10a5111b-c154-4df4-cccc-a7d03f46ed1e"
      },
      "execution_count": 15,
      "outputs": [
        {
          "output_type": "display_data",
          "data": {
            "text/plain": [
              "<Figure size 640x480 with 1 Axes>"
            ],
            "image/png": "[encoded data removed]"
          },
          "metadata": {}
        }
      ]
    },
    {
      "cell_type": "code",
      "source": [
        "sample.max(), sample.min()  # relatively similar"
      ],
      "metadata": {
        "colab": {
          "base_uri": "https://localhost:8080/"
        },
        "id": "s8vb9-7l4srm",
        "outputId": "c05e6434-c6a5-4d74-a5c2-a3bbefc9d12b"
      },
      "execution_count": 16,
      "outputs": [
        {
          "output_type": "execute_result",
          "data": {
            "text/plain": [
              "(tensor(1.1429), tensor(0.))"
            ]
          },
          "metadata": {},
          "execution_count": 16
        }
      ]
    },
    {
      "cell_type": "code",
      "source": [
        "mnist_train_data"
      ],
      "metadata": {
        "colab": {
          "base_uri": "https://localhost:8080/"
        },
        "id": "sVxXIFm_4Urt",
        "outputId": "20668960-bc41-47f1-91e1-0f56dfae68f1"
      },
      "execution_count": 17,
      "outputs": [
        {
          "output_type": "execute_result",
          "data": {
            "text/plain": [
              "Dataset MNIST\n",
              "    Number of datapoints: 60000\n",
              "    Root location: data/mnist\n",
              "    Split: Train\n",
              "    StandardTransform\n",
              "Transform: Compose(\n",
              "               ToTensor()\n",
              "               Pad(padding=2, fill=0, padding_mode=constant)\n",
              "               Normalize(mean=(0,), std=(0.875,))\n",
              "           )"
            ]
          },
          "metadata": {},
          "execution_count": 17
        }
      ]
    },
    {
      "cell_type": "markdown",
      "source": [
        "## 2) Data Preprocessing\n",
        "Data Is Preprocessed (thankfully) & I need to feed it to DataLoader"
      ],
      "metadata": {
        "id": "byZAlfkK05-C"
      }
    },
    {
      "cell_type": "code",
      "source": [
        "train_dataloader = DataLoader(\n",
        "    mnist_train_data,\n",
        "    batch_size=32,\n",
        "    shuffle=True\n",
        ")\n",
        "\n",
        "test_dataloader = DataLoader(\n",
        "    mnist_test_data,\n",
        "    batch_size=32,\n",
        "    shuffle=False\n",
        ")"
      ],
      "metadata": {
        "id": "U_QHoBgD3hL_"
      },
      "execution_count": 18,
      "outputs": []
    },
    {
      "cell_type": "markdown",
      "source": [
        "## 3) Original LeNet-5 (kind of)\n",
        "Differences:<br>\n",
        "1) I'll connect all feature maps between S2 and C3<br>\n",
        "2) I'm not using coefficient and bias with sigmoid in subsampling. Just Average Pooling.<br>\n",
        "3) Softmax instead of RBF<br>\n",
        "4) Replaced last convolution with flatten.\n",
        "\n",
        "---\n",
        "In other words I got rid of nearly all old concepts"
      ],
      "metadata": {
        "id": "hYuRrFt17NaY"
      }
    },
    {
      "cell_type": "code",
      "source": [
        "class LeNet5(nn.Module):\n",
        "  def __init__(self):\n",
        "    super().__init__()\n",
        "    self.layerstack = nn.Sequential(\n",
        "        nn.Conv2d(1, 6, kernel_size=5),\n",
        "        nn.Tanh(),\n",
        "        nn.AvgPool2d(2, 2),\n",
        "        nn.Conv2d(6, 16, kernel_size=5),\n",
        "        nn.Tanh(),\n",
        "        nn.AvgPool2d(2, 2),\n",
        "        nn.Flatten(),\n",
        "        nn.Tanh(),\n",
        "        nn.Linear(5*5*16, 84),\n",
        "        nn.Tanh(),\n",
        "        nn.Linear(84, 10)\n",
        "    )\n",
        "\n",
        "  def forward(self, X):\n",
        "    return self.layerstack(X)"
      ],
      "metadata": {
        "id": "dpve9w7l7JIh"
      },
      "execution_count": 160,
      "outputs": []
    },
    {
      "cell_type": "code",
      "source": [
        "og_lenet = LeNet5().to(\"cuda\")"
      ],
      "metadata": {
        "id": "oQYwDqKt99EM"
      },
      "execution_count": 161,
      "outputs": []
    },
    {
      "cell_type": "code",
      "source": [
        "loss_fn = nn.CrossEntropyLoss()\n",
        "optimizer = torch.optim.SGD(og_lenet.parameters(), lr=0.1)"
      ],
      "metadata": {
        "id": "1lOQoFFY9v5D"
      },
      "execution_count": 162,
      "outputs": []
    },
    {
      "cell_type": "code",
      "source": [
        "def train_step(\n",
        "            model,\n",
        "            data_loader,\n",
        "            loss_fn,\n",
        "            accuracy_fn,\n",
        "            optimizer,\n",
        "            device):\n",
        "  train_loss = 0\n",
        "  train_acc = 0\n",
        "\n",
        "  model.to(device)\n",
        "  model.train()\n",
        "  for X, y in data_loader:\n",
        "    X = X.to(device)\n",
        "    y = y.to(device)\n",
        "\n",
        "    logs_pred = model(X)\n",
        "    loss = loss_fn(logs_pred, y)\n",
        "    accuracy = accuracy_fn(torch.softmax(logs_pred, dim=1).argmax(dim=1), y)\n",
        "\n",
        "    train_loss += loss\n",
        "    train_acc += accuracy\n",
        "\n",
        "    optimizer.zero_grad()\n",
        "    loss.backward()\n",
        "    optimizer.step()\n",
        "\n",
        "  train_loss /= len(data_loader)\n",
        "  train_acc /= len(data_loader)\n",
        "  print(f\"Train Loss: {train_loss:.3f} | Train Accuracy: {train_acc:.3f}\")\n",
        "\n",
        "def test_step(\n",
        "            model,\n",
        "            data_loader,\n",
        "            loss_fn,\n",
        "            accuracy_fn,\n",
        "            device):\n",
        "  test_loss = 0\n",
        "  test_acc = 0\n",
        "\n",
        "  model.to(device)\n",
        "  model.eval()\n",
        "  with torch.inference_mode():\n",
        "    for X, y in data_loader:\n",
        "      X = X.to(device)\n",
        "      y = y.to(device)\n",
        "\n",
        "      logs_pred = model(X)\n",
        "      loss = loss_fn(logs_pred, y)\n",
        "      accuracy = accuracy_fn(torch.softmax(logs_pred, dim=1).argmax(dim=1), y)\n",
        "\n",
        "      test_loss += loss\n",
        "      test_acc += accuracy\n",
        "\n",
        "    test_loss /= len(data_loader)\n",
        "    test_acc /= len(data_loader)\n",
        "  print(f\"Test Loss: {test_loss:.3f} | Test Accuracy: {test_acc:.3f}\")\n",
        "\n"
      ],
      "metadata": {
        "id": "W-OKk9jNBs4N"
      },
      "execution_count": 163,
      "outputs": []
    },
    {
      "cell_type": "code",
      "source": [
        "def accuracy_fn(y_pred, y):\n",
        "  return 1 / len(y) * torch.eq(y_pred, y).sum().item()"
      ],
      "metadata": {
        "id": "G5VF5i0qHH4b"
      },
      "execution_count": 164,
      "outputs": []
    },
    {
      "cell_type": "code",
      "source": [
        "device = \"cuda\"\n",
        "epochs = 6\n",
        "\n",
        "for epoch in range(epochs):\n",
        "  print(f\"Epoch: {epoch+1}\")\n",
        "  train_step(og_lenet,\n",
        "             train_dataloader,\n",
        "             loss_fn,\n",
        "             accuracy_fn,\n",
        "             optimizer,\n",
        "             device\n",
        "             )\n",
        "  test_step(og_lenet,\n",
        "            test_dataloader,\n",
        "            loss_fn,\n",
        "            accuracy_fn,\n",
        "            device)"
      ],
      "metadata": {
        "colab": {
          "base_uri": "https://localhost:8080/"
        },
        "id": "M0keTVRe-DRW",
        "outputId": "0da0a087-148b-4498-a912-442acadaa574"
      },
      "execution_count": 165,
      "outputs": [
        {
          "output_type": "stream",
          "name": "stdout",
          "text": [
            "Epoch: 1\n",
            "Train Loss: 0.298 | Train Accuracy: 0.912\n",
            "Test Loss: 0.102 | Test Accuracy: 0.969\n",
            "Epoch: 2\n",
            "Train Loss: 0.093 | Train Accuracy: 0.972\n",
            "Test Loss: 0.068 | Test Accuracy: 0.979\n",
            "Epoch: 3\n",
            "Train Loss: 0.064 | Train Accuracy: 0.980\n",
            "Test Loss: 0.049 | Test Accuracy: 0.985\n",
            "Epoch: 4\n",
            "Train Loss: 0.051 | Train Accuracy: 0.985\n",
            "Test Loss: 0.044 | Test Accuracy: 0.986\n",
            "Epoch: 5\n",
            "Train Loss: 0.041 | Train Accuracy: 0.988\n",
            "Test Loss: 0.042 | Test Accuracy: 0.987\n",
            "Epoch: 6\n",
            "Train Loss: 0.036 | Train Accuracy: 0.989\n",
            "Test Loss: 0.036 | Test Accuracy: 0.988\n"
          ]
        }
      ]
    },
    {
      "cell_type": "markdown",
      "source": [
        "## Evaluate Model + show it\n",
        "It's a little bit overfitted, but anyway, 99% performance is slightly better than original LeNet-5"
      ],
      "metadata": {
        "id": "a9ocJx5QONrT"
      }
    },
    {
      "cell_type": "code",
      "source": [
        "og_lenet.eval()\n",
        "og_lenet.to(\"cpu\")\n",
        "with torch.inference_mode():\n",
        "  predictions = []\n",
        "  for X, _ in test_dataloader:\n",
        "    for pred in torch.softmax(og_lenet(X), dim=1).argmax(dim=1):\n",
        "      predictions.append(pred.item())\n",
        "\n",
        "predictions[:2]"
      ],
      "metadata": {
        "colab": {
          "base_uri": "https://localhost:8080/"
        },
        "id": "Aanzu3LvJoKg",
        "outputId": "44f335d5-daf6-44c9-b1fd-0f5b0c536d63"
      },
      "execution_count": 166,
      "outputs": [
        {
          "output_type": "execute_result",
          "data": {
            "text/plain": [
              "[7, 2]"
            ]
          },
          "metadata": {},
          "execution_count": 166
        }
      ]
    },
    {
      "cell_type": "code",
      "source": [
        "plt.suptitle(\"ART\")\n",
        "for i in range(9):\n",
        "  plt.subplot(3, 3, i+1)\n",
        "  plt.axis(\"off\")\n",
        "  plt.title(predictions[i])\n",
        "  plt.imshow(mnist_test_data[i][0].squeeze(), cmap=\"grey\");"
      ],
      "metadata": {
        "colab": {
          "base_uri": "https://localhost:8080/",
          "height": 454
        },
        "id": "xP0VKhKAPA_g",
        "outputId": "60bd5709-97c1-4174-82d7-22175472860f"
      },
      "execution_count": 167,
      "outputs": [
        {
          "output_type": "display_data",
          "data": {
            "text/plain": [
              "<Figure size 640x480 with 9 Axes>"
            ],
            "image/png": "[encoded data removed]"
          },
          "metadata": {}
        }
      ]
    },
    {
      "cell_type": "code",
      "source": [
        "from pathlib import Path\n",
        "\n",
        "MODEL_PATH = Path(\"models\")\n",
        "MODEL_PATH.mkdir(parents=True, exist_ok=True)\n",
        "\n",
        "MODEL_NAME = \"lenet_5.pth\"\n",
        "MODEL_SAVE_PATH = MODEL_PATH / MODEL_NAME\n",
        "\n",
        "torch.save(obj=og_lenet.state_dict(), f=MODEL_SAVE_PATH)\n",
        "print(f\"Saved model to: {MODEL_SAVE_PATH}\")"
      ],
      "metadata": {
        "colab": {
          "base_uri": "https://localhost:8080/"
        },
        "id": "hRHtzZfzQ2uE",
        "outputId": "3335ff19-0f43-409f-d184-acb348339664"
      },
      "execution_count": 170,
      "outputs": [
        {
          "output_type": "stream",
          "name": "stdout",
          "text": [
            "Saved model to: models/lenet_5.pth\n"
          ]
        }
      ]
    },
    {
      "cell_type": "code",
      "source": [],
      "metadata": {
        "id": "RCYJzJejZIeO"
      },
      "execution_count": null,
      "outputs": []
    }
  ]
}